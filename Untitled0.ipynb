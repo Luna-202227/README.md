{
  "nbformat": 4,
  "nbformat_minor": 0,
  "metadata": {
    "colab": {
      "provenance": [],
      "authorship_tag": "ABX9TyMuhkP941jZH7IjehU9rF/S",
      "include_colab_link": true
    },
    "kernelspec": {
      "name": "python3",
      "display_name": "Python 3"
    },
    "language_info": {
      "name": "python"
    }
  },
  "cells": [
    {
      "cell_type": "markdown",
      "metadata": {
        "id": "view-in-github",
        "colab_type": "text"
      },
      "source": [
        "<a href=\"https://colab.research.google.com/github/Luna-202227/README.md/blob/main/Untitled0.ipynb\" target=\"_parent\"><img src=\"https://colab.research.google.com/assets/colab-badge.svg\" alt=\"Open In Colab\"/></a>"
      ]
    },
    {
      "cell_type": "code",
      "execution_count": null,
      "metadata": {
        "id": "Lpkwx5eHPnAC"
      },
      "outputs": [],
      "source": [
        "\"My Jupyter Notebook on IBM Watson Studio\""
      ]
    },
    {
      "cell_type": "markdown",
      "source": [
        "**Karla**"
      ],
      "metadata": {
        "id": "pqObxvSOQ0t4"
      }
    },
    {
      "cell_type": "code",
      "source": [
        "\"Especialista en riesgos\"\n"
      ],
      "metadata": {
        "id": "VHYcBtYXQwba"
      },
      "execution_count": null,
      "outputs": []
    },
    {
      "cell_type": "markdown",
      "source": [
        "*Estoy interesado en la Data Science porque me permite crear modelos de predicción para apoyar los analisis de evaluaciones de riesgos, utilizando para ello grandes bases de datos\" \"Adicional el aprendisaje de Data Science me va permitir buscar nuevas oportunidades de trabajo.*\n"
      ],
      "metadata": {
        "id": "CD_3BjohU32C"
      }
    },
    {
      "cell_type": "code",
      "source": [
        "def gauss(n):\n",
        "return(n*(n+1))/2\n",
        "gauss(100) == sum (range(101))"
      ],
      "metadata": {
        "id": "vnW4KBA3YUgl"
      },
      "execution_count": null,
      "outputs": []
    },
    {
      "cell_type": "code",
      "source": [
        "True\n",
        "1\n",
        "2 \n",
        "3\n",
        "1\n",
        "2\n",
        "3"
      ],
      "metadata": {
        "colab": {
          "base_uri": "https://localhost:8080/"
        },
        "id": "EPKl_gkOYSvz",
        "outputId": "65b18710-4715-438c-a30c-0936278c82fa"
      },
      "execution_count": 5,
      "outputs": [
        {
          "output_type": "execute_result",
          "data": {
            "text/plain": [
              "3"
            ]
          },
          "metadata": {},
          "execution_count": 5
        }
      ]
    }
  ]
}